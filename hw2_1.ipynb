{
 "cells": [
  {
   "cell_type": "markdown",
   "metadata": {},
   "source": [
    "## Папоротский Михаил, БКЛ181\n",
    "## Домашнее задание 2 (часть 1)\n"
   ]
  },
  {
   "cell_type": "markdown",
   "metadata": {},
   "source": [
    "<i>Примечание: у меня из-за использования %%time не работали принты, поэтому я использую import time по рекомендации Евгения Глазунова в телеграм-чате.</i>"
   ]
  },
  {
   "cell_type": "code",
   "execution_count": 1,
   "metadata": {},
   "outputs": [],
   "source": [
    "%load_ext pycodestyle_magic\n",
    "%pycodestyle_on"
   ]
  },
  {
   "cell_type": "markdown",
   "metadata": {},
   "source": [
    "### Пункт 1"
   ]
  },
  {
   "cell_type": "markdown",
   "metadata": {},
   "source": [
    "Сначала загрузим файл с книгой:"
   ]
  },
  {
   "cell_type": "code",
   "execution_count": 2,
   "metadata": {},
   "outputs": [],
   "source": [
    "with open('diletanti.txt', encoding='utf-8-sig') as f:\n",
    "    text = f.read()"
   ]
  },
  {
   "cell_type": "markdown",
   "metadata": {},
   "source": [
    "### Пункт 2"
   ]
  },
  {
   "cell_type": "markdown",
   "metadata": {},
   "source": [
    "Используем mystem:"
   ]
  },
  {
   "cell_type": "code",
   "execution_count": 3,
   "metadata": {},
   "outputs": [
    {
     "name": "stdout",
     "output_type": "stream",
     "text": [
      "3952.057831764221\n"
     ]
    }
   ],
   "source": [
    "from pymystem3 import Mystem\n",
    "import json\n",
    "import time\n",
    "\n",
    "start = time.time()\n",
    "\n",
    "m = Mystem()\n",
    "mystem_ana = m.analyze(text)\n",
    "\n",
    "end = time.time()\n",
    "print(end - start)"
   ]
  },
  {
   "cell_type": "markdown",
   "metadata": {},
   "source": [
    "Загружаем результат в json-файл:"
   ]
  },
  {
   "cell_type": "code",
   "execution_count": 4,
   "metadata": {},
   "outputs": [],
   "source": [
    "with open('mystem.json', 'w', encoding='utf-8') as f:\n",
    "    json.dump(mystem_ana, f, ensure_ascii=False)"
   ]
  },
  {
   "cell_type": "markdown",
   "metadata": {},
   "source": [
    "### Пункт 3"
   ]
  },
  {
   "cell_type": "markdown",
   "metadata": {},
   "source": [
    "Токенизируем текст с помощью nltk:"
   ]
  },
  {
   "cell_type": "code",
   "execution_count": 5,
   "metadata": {},
   "outputs": [],
   "source": [
    "from nltk.tokenize import word_tokenize\n",
    "\n",
    "words = word_tokenize(text)"
   ]
  },
  {
   "cell_type": "markdown",
   "metadata": {},
   "source": [
    "Разбираем слова через pymorphy и записываем нужную нам информацию в список anas:"
   ]
  },
  {
   "cell_type": "code",
   "execution_count": 6,
   "metadata": {},
   "outputs": [
    {
     "name": "stdout",
     "output_type": "stream",
     "text": [
      "47.367798805236816\n"
     ]
    }
   ],
   "source": [
    "import time\n",
    "from pymorphy2 import MorphAnalyzer\n",
    "\n",
    "start = time.time()\n",
    "\n",
    "morph = MorphAnalyzer()\n",
    "\n",
    "anas = []\n",
    "for word in words:\n",
    "    pymorphy_ana = morph.parse(word)\n",
    "    first = pymorphy_ana[0]\n",
    "    anas.append([first.normal_form, first.tag.POS])\n",
    "\n",
    "end = time.time()\n",
    "print(end - start)"
   ]
  },
  {
   "cell_type": "markdown",
   "metadata": {},
   "source": [
    "Делаем из результата словарь и записываем его в json:"
   ]
  },
  {
   "cell_type": "code",
   "execution_count": 7,
   "metadata": {},
   "outputs": [],
   "source": [
    "import json\n",
    "anasdict = {anas[i][0]: anas[i][1] for i in range(len(anas))}\n",
    "with open('pymorphy.json', 'w', encoding='utf-8') as f:\n",
    "    json.dump(anasdict, f, ensure_ascii=False)"
   ]
  },
  {
   "cell_type": "markdown",
   "metadata": {},
   "source": [
    "### Пункт 4"
   ]
  },
  {
   "cell_type": "markdown",
   "metadata": {},
   "source": [
    "Удаляем пунктуацию/цифры и стоп слова, а затем добавляем все части речи в список (а заодно считаем общее количество частей речи – total):"
   ]
  },
  {
   "cell_type": "code",
   "execution_count": 8,
   "metadata": {},
   "outputs": [],
   "source": [
    "from nltk.corpus import stopwords\n",
    "\n",
    "sw = stopwords.words('russian')\n",
    "total = 0\n",
    "\n",
    "pos = []\n",
    "for word in anas:\n",
    "    if word[0].isalpha():\n",
    "        if word[0] not in sw:\n",
    "            pos.append(word[1])\n",
    "            total += 1"
   ]
  },
  {
   "cell_type": "markdown",
   "metadata": {},
   "source": [
    "Делаем Counter из частей речи и выводим их частоту:"
   ]
  },
  {
   "cell_type": "code",
   "execution_count": 9,
   "metadata": {},
   "outputs": [
    {
     "name": "stdout",
     "output_type": "stream",
     "text": [
      "NOUN \t 0.38036765981770115\n",
      "VERB \t 0.1973543191352543\n",
      "ADJF \t 0.16337487623888702\n",
      "ADVB \t 0.06492737646854682\n",
      "INFN \t 0.04667707791081034\n",
      "GRND \t 0.027007992160945585\n",
      "PRCL \t 0.025844382521358362\n",
      "PRTF \t 0.022874115809780445\n",
      "ADJS \t 0.02272100927825581\n",
      "CONJ \t 0.015473966786089761\n",
      "NPRO \t 0.010564350675199804\n",
      "COMP \t 0.005450592522277\n",
      "PRTS \t 0.004685059864653826\n",
      "PREP \t 0.0046544385583488996\n",
      "None \t 0.0026742607506302887\n",
      "NUMR \t 0.0018576925824989028\n",
      "PRED \t 0.0018270712761939757\n",
      "INTJ \t 0.0016637576425676986\n"
     ]
    }
   ],
   "source": [
    "import collections\n",
    "pos_counter = collections.Counter(pos).most_common()\n",
    "\n",
    "for i in pos_counter:\n",
    "    print(i[0], '\\t', str(i[1] / total))"
   ]
  },
  {
   "cell_type": "markdown",
   "metadata": {},
   "source": [
    "Теперь считаем количество глаголов и наречий:"
   ]
  },
  {
   "cell_type": "code",
   "execution_count": 10,
   "metadata": {},
   "outputs": [],
   "source": [
    "verbs = []\n",
    "adverbs = []\n",
    "for word in anas:\n",
    "    if word[1] == 'VERB':\n",
    "        verbs.append(word[0])\n",
    "    if word[1] == 'ADVB':\n",
    "        adverbs.append(word[0])"
   ]
  },
  {
   "cell_type": "markdown",
   "metadata": {},
   "source": [
    "Делаем для них два Counter'a:"
   ]
  },
  {
   "cell_type": "code",
   "execution_count": 11,
   "metadata": {},
   "outputs": [],
   "source": [
    "import collections\n",
    "verb_counter = collections.Counter(verbs).most_common()\n",
    "adverb_counter = collections.Counter(adverbs).most_common()"
   ]
  },
  {
   "cell_type": "markdown",
   "metadata": {},
   "source": [
    "Выводим результат для глаголов:"
   ]
  },
  {
   "cell_type": "code",
   "execution_count": 12,
   "metadata": {},
   "outputs": [
    {
     "name": "stdout",
     "output_type": "stream",
     "text": [
      "быть\t1894\n",
      "сказать\t730\n",
      "мочь\t614\n",
      "знать\t240\n",
      "говорить\t211\n",
      "видеть\t201\n",
      "подумать\t190\n",
      "думать\t175\n",
      "спросить\t163\n",
      "хотеть\t158\n",
      "стать\t135\n",
      "любить\t124\n",
      "понять\t106\n",
      "сидеть\t97\n",
      "увидеть\t93\n",
      "продолжать\t87\n",
      "смочь\t87\n",
      "следовать\t84\n",
      "идти\t81\n",
      "иметь\t81\n"
     ]
    }
   ],
   "source": [
    "a = 0\n",
    "while a < 20:\n",
    "    print(verb_counter[a][0] + '\\t' + str(verb_counter[a][1]))\n",
    "    a += 1"
   ]
  },
  {
   "cell_type": "markdown",
   "metadata": {},
   "source": [
    "И для наречий:"
   ]
  },
  {
   "cell_type": "code",
   "execution_count": 13,
   "metadata": {},
   "outputs": [
    {
     "name": "stdout",
     "output_type": "stream",
     "text": [
      "уже\t1894\n",
      "теперь\t730\n",
      "там\t614\n",
      "тут\t240\n",
      "вдруг\t211\n",
      "где\t201\n",
      "уж\t190\n",
      "очень\t175\n",
      "тогда\t163\n",
      "наконец\t158\n",
      "почти\t135\n",
      "снова\t124\n",
      "всегда\t106\n",
      "затем\t97\n",
      "несколько\t93\n",
      "совсем\t87\n",
      "потому\t87\n",
      "хорошо\t84\n",
      "вновь\t81\n",
      "покуда\t81\n"
     ]
    }
   ],
   "source": [
    "a = 0\n",
    "while a < 20:\n",
    "    print(adverb_counter[a][0] + '\\t' + str(verb_counter[a][1]))\n",
    "    a += 1"
   ]
  },
  {
   "cell_type": "markdown",
   "metadata": {},
   "source": [
    "### Пункт 5"
   ]
  },
  {
   "cell_type": "markdown",
   "metadata": {},
   "source": [
    "Сначала убираем пунктуацию и делаем список из слов без пунктуации:"
   ]
  },
  {
   "cell_type": "code",
   "execution_count": 14,
   "metadata": {},
   "outputs": [],
   "source": [
    "formatted = []\n",
    "for word in words:\n",
    "    if word.isalpha():\n",
    "        formatted.append(word.lower())"
   ]
  },
  {
   "cell_type": "markdown",
   "metadata": {},
   "source": [
    "Теперь делаем списки из биграмм и триграмм:"
   ]
  },
  {
   "cell_type": "code",
   "execution_count": 15,
   "metadata": {},
   "outputs": [],
   "source": [
    "import nltk\n",
    "bigrams = list(nltk.ngrams(formatted, 2))\n",
    "trigrams = list(nltk.ngrams(formatted, 3))"
   ]
  },
  {
   "cell_type": "markdown",
   "metadata": {},
   "source": [
    "Делаем из них Counter'ы:"
   ]
  },
  {
   "cell_type": "code",
   "execution_count": 16,
   "metadata": {},
   "outputs": [],
   "source": [
    "bigram_counter = collections.Counter(bigrams).most_common()\n",
    "trigram_counter = collections.Counter(trigrams).most_common()"
   ]
  },
  {
   "cell_type": "markdown",
   "metadata": {},
   "source": [
    "Выводим топ-25 биграм:"
   ]
  },
  {
   "cell_type": "code",
   "execution_count": 17,
   "metadata": {},
   "outputs": [
    {
     "name": "stdout",
     "output_type": "stream",
     "text": [
      "('и', 'не')\t267\n",
      "('я', 'не')\t161\n",
      "('и', 'он')\t151\n",
      "('что', 'я')\t143\n",
      "('все', 'это')\t135\n",
      "('и', 'все')\t130\n",
      "('и', 'в')\t122\n",
      "('не', 'было')\t121\n",
      "('и', 'я')\t119\n",
      "('может', 'быть')\t108\n",
      "('уже', 'не')\t106\n",
      "('что', 'это')\t102\n",
      "('что', 'же')\t96\n",
      "('сказал', 'он')\t96\n",
      "('сказала', 'она')\t92\n",
      "('что', 'она')\t92\n",
      "('ничего', 'не')\t92\n",
      "('что', 'он')\t91\n",
      "('он', 'не')\t85\n",
      "('вы', 'не')\t84\n",
      "('что', 'вы')\t84\n",
      "('у', 'меня')\t83\n",
      "('с', 'вами')\t82\n",
      "('ван', 'шонховен')\t82\n",
      "('и', 'даже')\t81\n"
     ]
    }
   ],
   "source": [
    "a = 0\n",
    "while a < 25:\n",
    "    print(str(bigram_counter[a][0]) + '\\t' + str(bigram_counter[a][1]))\n",
    "    a += 1"
   ]
  },
  {
   "cell_type": "markdown",
   "metadata": {},
   "source": [
    "И топ-25 триграм:"
   ]
  },
  {
   "cell_type": "code",
   "execution_count": 18,
   "metadata": {},
   "outputs": [
    {
     "name": "stdout",
     "output_type": "stream",
     "text": [
      "('господин', 'ван', 'шонховен')\t74\n",
      "('господина', 'ван', 'шонховена')\t53\n",
      "('ни', 'в', 'чем')\t26\n",
      "('а', 'может', 'быть')\t25\n",
      "('в', 'чем', 'не')\t25\n",
      "('и', 'тут', 'же')\t24\n",
      "('во', 'всяком', 'случае')\t21\n",
      "('как', 'ни', 'в')\t20\n",
      "('может', 'быть', 'и')\t19\n",
      "('чем', 'не', 'бывало')\t19\n",
      "('не', 'правда', 'ли')\t19\n",
      "('не', 'может', 'быть')\t19\n",
      "('я', 'не', 'могу')\t18\n",
      "('в', 'конце', 'концов')\t18\n",
      "('если', 'не', 'считать')\t17\n",
      "('о', 'том', 'что')\t17\n",
      "('мы', 'с', 'вами')\t16\n",
      "('и', 'не', 'было')\t16\n",
      "('сказал', 'николай', 'павлович')\t16\n",
      "('время', 'от', 'времени')\t15\n",
      "('в', 'самом', 'деле')\t15\n",
      "('в', 'том', 'что')\t14\n",
      "('ни', 'о', 'чем')\t14\n",
      "('друг', 'к', 'другу')\t14\n",
      "('друг', 'мой', 'петр')\t14\n"
     ]
    }
   ],
   "source": [
    "a = 0\n",
    "while a < 25:\n",
    "    print(str(trigram_counter[a][0]) + '\\t' + str(trigram_counter[a][1]))\n",
    "    a += 1"
   ]
  }
 ],
 "metadata": {
  "kernelspec": {
   "display_name": "Python 3",
   "language": "python",
   "name": "python3"
  },
  "language_info": {
   "codemirror_mode": {
    "name": "ipython",
    "version": 3
   },
   "file_extension": ".py",
   "mimetype": "text/x-python",
   "name": "python",
   "nbconvert_exporter": "python",
   "pygments_lexer": "ipython3",
   "version": "3.6.7"
  }
 },
 "nbformat": 4,
 "nbformat_minor": 2
}
